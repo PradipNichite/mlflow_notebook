{
 "cells": [
  {
   "cell_type": "code",
   "execution_count": 1,
   "metadata": {},
   "outputs": [],
   "source": [
    "from __future__ import print_function\n",
    "\n",
    "import numpy as np\n",
    "from sklearn.linear_model import LogisticRegression\n",
    "\n",
    "import mlflow\n",
    "import mlflow.sklearn"
   ]
  },
  {
   "cell_type": "code",
   "execution_count": 36,
   "metadata": {},
   "outputs": [
    {
     "name": "stdout",
     "output_type": "stream",
     "text": [
      "Score: 0.6666666666666666\n"
     ]
    }
   ],
   "source": [
    "run_ids = []\n",
    "with mlflow.start_run(run_name=\"LR\"):\n",
    "    X = np.array([-2, -1, 0, 1, 2, 1]).reshape(-1, 1)\n",
    "    y = np.array([0, 0, 1, 1, 1, 0])\n",
    "    lr = LogisticRegression()\n",
    "    lr.fit(X, y)\n",
    "    score = lr.score(X, y)\n",
    "    print(\"Score: %s\" % score)\n",
    "    mlflow.log_metric(\"score\", score)\n",
    "    mlflow.sklearn.log_model(lr, \"model\")\n",
    "    mlflow.set_tag(\"version\",\"latest\")\n",
    "    current_run = mlflow.active_run().info.run_uuid\n",
    "    run_ids.append(current_run)\n",
    " "
   ]
  },
  {
   "cell_type": "code",
   "execution_count": null,
   "metadata": {},
   "outputs": [],
   "source": [
    "mlflow models serve -m runs:/4517c7a94f4547a38febf6cae8880bb6/model "
   ]
  },
  {
   "cell_type": "code",
   "execution_count": null,
   "metadata": {},
   "outputs": [],
   "source": [
    "set MLFLOW_TRACKING_URI = \"http://localhost:5001\""
   ]
  },
  {
   "cell_type": "code",
   "execution_count": 10,
   "metadata": {},
   "outputs": [
    {
     "data": {
      "text/plain": [
       "<Run: data=<RunData: metrics={'score': 0.6666666666666666}, params={}, tags={'mlflow.log-model.history': '[{\"run_id\": \"564e1c96051b4250aaa8c1e6eae962d7\", '\n",
       "                             '\"artifact_path\": \"model\", \"utc_time_created\": '\n",
       "                             '\"2020-03-23 08:08:33.988402\", \"flavors\": '\n",
       "                             '{\"python_function\": {\"loader_module\": '\n",
       "                             '\"mlflow.sklearn\", \"python_version\": \"3.8.2\", '\n",
       "                             '\"data\": \"model.pkl\", \"env\": \"conda.yaml\"}, '\n",
       "                             '\"sklearn\": {\"pickled_model\": \"model.pkl\", '\n",
       "                             '\"sklearn_version\": \"0.22.2.post1\", '\n",
       "                             '\"serialization_format\": \"cloudpickle\"}}}]',\n",
       " 'mlflow.runName': 'LR',\n",
       " 'mlflow.source.name': 'c:\\\\users\\\\pnichite\\\\projects\\\\risk\\\\lib\\\\site-packages\\\\ipykernel_launcher.py',\n",
       " 'mlflow.source.type': 'LOCAL',\n",
       " 'mlflow.user': 'pnichite'}>, info=<RunInfo: artifact_uri='file:///C:/Users/pnichite/projects/re_train/mlruns/0/564e1c96051b4250aaa8c1e6eae962d7/artifacts', end_time=1584950914022, experiment_id='0', lifecycle_stage='active', run_id='564e1c96051b4250aaa8c1e6eae962d7', run_uuid='564e1c96051b4250aaa8c1e6eae962d7', start_time=1584950913933, status='FINISHED', user_id='pnichite'>>"
      ]
     },
     "execution_count": 10,
     "metadata": {},
     "output_type": "execute_result"
    }
   ],
   "source": [
    "mlflow.get_run(\"564e1c96051b4250aaa8c1e6eae962d7\")"
   ]
  },
  {
   "cell_type": "code",
   "execution_count": 17,
   "metadata": {},
   "outputs": [],
   "source": [
    "data = mlflow.search_runs(experiment_ids=None, filter_string='tags.mlflow.runName = \"LR\"', run_view_type=1, max_results=100000, order_by=None)"
   ]
  },
  {
   "cell_type": "code",
   "execution_count": 18,
   "metadata": {},
   "outputs": [
    {
     "data": {
      "text/html": [
       "<div>\n",
       "<style scoped>\n",
       "    .dataframe tbody tr th:only-of-type {\n",
       "        vertical-align: middle;\n",
       "    }\n",
       "\n",
       "    .dataframe tbody tr th {\n",
       "        vertical-align: top;\n",
       "    }\n",
       "\n",
       "    .dataframe thead th {\n",
       "        text-align: right;\n",
       "    }\n",
       "</style>\n",
       "<table border=\"1\" class=\"dataframe\">\n",
       "  <thead>\n",
       "    <tr style=\"text-align: right;\">\n",
       "      <th></th>\n",
       "      <th>run_id</th>\n",
       "      <th>experiment_id</th>\n",
       "      <th>status</th>\n",
       "      <th>artifact_uri</th>\n",
       "      <th>start_time</th>\n",
       "      <th>end_time</th>\n",
       "      <th>metrics.score</th>\n",
       "      <th>tags.mlflow.source.type</th>\n",
       "      <th>tags.version</th>\n",
       "      <th>tags.mlflow.user</th>\n",
       "      <th>tags.mlflow.runName</th>\n",
       "      <th>tags.mlflow.source.name</th>\n",
       "      <th>tags.mlflow.log-model.history</th>\n",
       "    </tr>\n",
       "  </thead>\n",
       "  <tbody>\n",
       "    <tr>\n",
       "      <th>0</th>\n",
       "      <td>61dc65251ec747fcb85daf5a17663826</td>\n",
       "      <td>0</td>\n",
       "      <td>FINISHED</td>\n",
       "      <td>file:///C:/Users/pnichite/projects/re_train/ml...</td>\n",
       "      <td>2020-03-23 08:13:29.354000+00:00</td>\n",
       "      <td>2020-03-23 08:13:29.448000+00:00</td>\n",
       "      <td>0.666667</td>\n",
       "      <td>LOCAL</td>\n",
       "      <td>latest</td>\n",
       "      <td>pnichite</td>\n",
       "      <td>LR</td>\n",
       "      <td>c:\\users\\pnichite\\projects\\risk\\lib\\site-packa...</td>\n",
       "      <td>[{\"run_id\": \"61dc65251ec747fcb85daf5a17663826\"...</td>\n",
       "    </tr>\n",
       "    <tr>\n",
       "      <th>1</th>\n",
       "      <td>564e1c96051b4250aaa8c1e6eae962d7</td>\n",
       "      <td>0</td>\n",
       "      <td>FINISHED</td>\n",
       "      <td>file:///C:/Users/pnichite/projects/re_train/ml...</td>\n",
       "      <td>2020-03-23 08:08:33.933000+00:00</td>\n",
       "      <td>2020-03-23 08:08:34.022000+00:00</td>\n",
       "      <td>0.666667</td>\n",
       "      <td>LOCAL</td>\n",
       "      <td>None</td>\n",
       "      <td>pnichite</td>\n",
       "      <td>LR</td>\n",
       "      <td>c:\\users\\pnichite\\projects\\risk\\lib\\site-packa...</td>\n",
       "      <td>[{\"run_id\": \"564e1c96051b4250aaa8c1e6eae962d7\"...</td>\n",
       "    </tr>\n",
       "  </tbody>\n",
       "</table>\n",
       "</div>"
      ],
      "text/plain": [
       "                             run_id experiment_id    status  \\\n",
       "0  61dc65251ec747fcb85daf5a17663826             0  FINISHED   \n",
       "1  564e1c96051b4250aaa8c1e6eae962d7             0  FINISHED   \n",
       "\n",
       "                                        artifact_uri  \\\n",
       "0  file:///C:/Users/pnichite/projects/re_train/ml...   \n",
       "1  file:///C:/Users/pnichite/projects/re_train/ml...   \n",
       "\n",
       "                        start_time                         end_time  \\\n",
       "0 2020-03-23 08:13:29.354000+00:00 2020-03-23 08:13:29.448000+00:00   \n",
       "1 2020-03-23 08:08:33.933000+00:00 2020-03-23 08:08:34.022000+00:00   \n",
       "\n",
       "   metrics.score tags.mlflow.source.type tags.version tags.mlflow.user  \\\n",
       "0       0.666667                   LOCAL       latest         pnichite   \n",
       "1       0.666667                   LOCAL         None         pnichite   \n",
       "\n",
       "  tags.mlflow.runName                            tags.mlflow.source.name  \\\n",
       "0                  LR  c:\\users\\pnichite\\projects\\risk\\lib\\site-packa...   \n",
       "1                  LR  c:\\users\\pnichite\\projects\\risk\\lib\\site-packa...   \n",
       "\n",
       "                       tags.mlflow.log-model.history  \n",
       "0  [{\"run_id\": \"61dc65251ec747fcb85daf5a17663826\"...  \n",
       "1  [{\"run_id\": \"564e1c96051b4250aaa8c1e6eae962d7\"...  "
      ]
     },
     "execution_count": 18,
     "metadata": {},
     "output_type": "execute_result"
    }
   ],
   "source": [
    "data"
   ]
  },
  {
   "cell_type": "code",
   "execution_count": 32,
   "metadata": {},
   "outputs": [],
   "source": [
    "with mlflow.start_run(run_id=\"564e1c96051b4250aaa8c1e6eae962d7\"):\n",
    "    mlflow.set_tag(\"version\",\"latest\")"
   ]
  },
  {
   "cell_type": "code",
   "execution_count": 25,
   "metadata": {},
   "outputs": [
    {
     "data": {
      "text/plain": [
       "{'mlflow.log-model.history': '[{\"run_id\": \"564e1c96051b4250aaa8c1e6eae962d7\", \"artifact_path\": \"model\", \"utc_time_created\": \"2020-03-23 08:08:33.988402\", \"flavors\": {\"python_function\": {\"loader_module\": \"mlflow.sklearn\", \"python_version\": \"3.8.2\", \"data\": \"model.pkl\", \"env\": \"conda.yaml\"}, \"sklearn\": {\"pickled_model\": \"model.pkl\", \"sklearn_version\": \"0.22.2.post1\", \"serialization_format\": \"cloudpickle\"}}}]',\n",
       " 'mlflow.runName': 'LR',\n",
       " 'mlflow.source.name': 'c:\\\\users\\\\pnichite\\\\projects\\\\risk\\\\lib\\\\site-packages\\\\ipykernel_launcher.py',\n",
       " 'mlflow.source.type': 'LOCAL',\n",
       " 'mlflow.user': 'pnichite'}"
      ]
     },
     "execution_count": 25,
     "metadata": {},
     "output_type": "execute_result"
    }
   ],
   "source": [
    "mlflow.get_run(\"564e1c96051b4250aaa8c1e6eae962d7\").data.tags"
   ]
  },
  {
   "cell_type": "code",
   "execution_count": null,
   "metadata": {},
   "outputs": [],
   "source": [
    "run_ids = []\n",
    "def mlflow_log(run_name,model,metrics,tags=None,params=None):\n",
    "    with mlflow.start_run(run_name=run_name):\n",
    "        mlflow.log_metrics(metrics)\n",
    "        mlflow.sklearn.log_model(model, \"model\")\n",
    "        mlflow.set_tags(tags)\n",
    "        mlflow.log_params(params)\n",
    "        current_run = mlflow.active_run().info.run_uuid\n",
    "        run_ids.append(current_run)"
   ]
  },
  {
   "cell_type": "code",
   "execution_count": null,
   "metadata": {},
   "outputs": [],
   "source": [
    "lr_metrcis = get_metrcis(y_test,lr_preds)\n",
    "rf_metrcis = get_metrcis(y_test,rf_preds)\n",
    "xgb_metrcis = get_metrcis(y_test,xgb_preds)\n",
    "\n",
    "mlflow_log(\"LR\",lr_model,lr_metrcis)\n",
    "mlflow_log('RF',rf_model,rf_metrcis)\n",
    "mlflow_log('Xgb',xgb_model,xgb_metrcis)\n",
    "\n",
    "mlflow_log('Ensemble',None,ensemble_metrcis)\n"
   ]
  },
  {
   "cell_type": "code",
   "execution_count": null,
   "metadata": {},
   "outputs": [],
   "source": [
    "def dploy_model():\n",
    "    data = mlflow.search_runs(experiment_ids=None, filter_string='tags.version= \"latest\"')\n",
    "    for run_id in data.run_id:\n",
    "        print(run_id)\n",
    "        try:\n",
    "            with mlflow.start_run(run_id=run_id):\n",
    "                mlflow.delete_tag(\"version\")\n",
    "        except:\n",
    "            pass\n",
    "\n",
    "    for run_id in run_ids:\n",
    "        print(run_id)\n",
    "        try:\n",
    "            with mlflow.start_run(run_id=run_id):\n",
    "                mlflow.set_tga(\"version\",\"latest\")\n",
    "        except:\n",
    "            pass    "
   ]
  },
  {
   "cell_type": "code",
   "execution_count": 29,
   "metadata": {},
   "outputs": [
    {
     "name": "stdout",
     "output_type": "stream",
     "text": [
      "61dc65251ec747fcb85daf5a17663826\n",
      "564e1c96051b4250aaa8c1e6eae962d7\n"
     ]
    }
   ],
   "source": [
    "for run_id in data.run_id:\n",
    "    print(run_id)\n",
    "    try:\n",
    "        with mlflow.start_run(run_id=run_id):\n",
    "            mlflow.delete_tag(\"version\")\n",
    "    except:\n",
    "        pass\n",
    "\n",
    "for run_id in run_ids:\n",
    "    print(run_id)\n",
    "    try:\n",
    "        with mlflow.start_run(run_id=run_id):\n",
    "            mlflow.set_tga(\"version\",\"latest\")\n",
    "    except:\n",
    "        pass"
   ]
  },
  {
   "cell_type": "code",
   "execution_count": 33,
   "metadata": {},
   "outputs": [],
   "source": [
    "data = mlflow.search_runs(experiment_ids=None, filter_string='tags.version= \"latest\"')"
   ]
  },
  {
   "cell_type": "code",
   "execution_count": 55,
   "metadata": {},
   "outputs": [
    {
     "data": {
      "text/plain": [
       "'564e1c96051b4250aaa8c1e6eae962d7'"
      ]
     },
     "execution_count": 55,
     "metadata": {},
     "output_type": "execute_result"
    }
   ],
   "source": [
    "data[data[\"tags.mlflow.runName\"]==\"LR\"].run_id.tolist()[0]"
   ]
  },
  {
   "cell_type": "code",
   "execution_count": null,
   "metadata": {},
   "outputs": [],
   "source": [
    "load_latest_model()"
   ]
  },
  {
   "cell_type": "code",
   "execution_count": null,
   "metadata": {},
   "outputs": [],
   "source": [
    "sk_model = mlflow.sklearn.load_model(\"runs:/96771d893a5e46159d9f3b49bf9013e2/\"sk_models\")\n",
    "                                     sk_model"
   ]
  },
  {
   "cell_type": "code",
   "execution_count": 38,
   "metadata": {},
   "outputs": [
    {
     "data": {
      "text/plain": [
       "LogisticRegression(C=1.0, class_weight=None, dual=False, fit_intercept=True,\n",
       "                   intercept_scaling=1, l1_ratio=None, max_iter=100,\n",
       "                   multi_class='auto', n_jobs=None, penalty='l2',\n",
       "                   random_state=None, solver='lbfgs', tol=0.0001, verbose=0,\n",
       "                   warm_start=False)"
      ]
     },
     "execution_count": 38,
     "metadata": {},
     "output_type": "execute_result"
    }
   ],
   "source": [
    "model = mlflow.sklearn.load_model(\"runs:/\" + run_id + \"/model\")\n",
    "model"
   ]
  },
  {
   "cell_type": "code",
   "execution_count": null,
   "metadata": {},
   "outputs": [],
   "source": [
    "def load_latest_model():\n",
    "    \n",
    "    #Search latest model\n",
    "    data = mlflow.search_runs( filter_string='tags.version= \"latest\"')\n",
    "    \n",
    "    lr_run_id = data[data[\"tags.mlflow.runName\"]==\"LR\"].run_id.tolist()[0]\n",
    "    rf_run_id = data[data[\"tags.mlflow.runName\"]==\"RF\"].run_id.tolist()[0]\n",
    "    xgb_run_id = data[data[\"tags.mlflow.runName\"]==\"Xgb\"].run_id.tolist()[0]\n",
    "    \n",
    "    lr_model = mlflow.sklearn.load_model(\"runs:/\" + lr_run_id + \"/model\")\n",
    "    rf_model = mlflow.sklearn.load_model(\"runs:/\" + rf_run_id + \"/model\")\n",
    "    Xgb_model = mlflow.sklearn.load_model(\"runs:/\" + xgb_run_id + \"/model\")\n",
    "    \n",
    "    return lr_model,rf_model,xgb_model\n",
    "    \n",
    "    "
   ]
  },
  {
   "cell_type": "code",
   "execution_count": null,
   "metadata": {},
   "outputs": [],
   "source": [
    "data = mlflow.search_runs( filter_string='tags.version= \"latest\" and tags.mlflow.runName= \"Ensemble\"')\n",
    "data"
   ]
  },
  {
   "cell_type": "code",
   "execution_count": 64,
   "metadata": {},
   "outputs": [
    {
     "name": "stdout",
     "output_type": "stream",
     "text": [
      "Score: 0.6666666666666666\n"
     ]
    }
   ],
   "source": [
    "run_ids = []\n",
    "with mlflow.start_run(run_name=\"Ensemble\"):\n",
    "    X = np.array([-2, -1, 0, 1, 2, 1]).reshape(-1, 1)\n",
    "    y = np.array([0, 0, 1, 1, 1, 0])\n",
    "    lr = LogisticRegression()\n",
    "    lr.fit(X, y)\n",
    "    score = lr.score(X, y)\n",
    "    print(\"Score: %s\" % score)\n",
    "    mlflow.log_metric(\"au_roc\", score)\n",
    "\n",
    "    mlflow.set_tag(\"version\",\"latest\")\n",
    "    current_run = mlflow.active_run().info.run_uuid\n",
    "    run_ids.append(current_run)"
   ]
  },
  {
   "cell_type": "code",
   "execution_count": 67,
   "metadata": {},
   "outputs": [
    {
     "data": {
      "text/html": [
       "<div>\n",
       "<style scoped>\n",
       "    .dataframe tbody tr th:only-of-type {\n",
       "        vertical-align: middle;\n",
       "    }\n",
       "\n",
       "    .dataframe tbody tr th {\n",
       "        vertical-align: top;\n",
       "    }\n",
       "\n",
       "    .dataframe thead th {\n",
       "        text-align: right;\n",
       "    }\n",
       "</style>\n",
       "<table border=\"1\" class=\"dataframe\">\n",
       "  <thead>\n",
       "    <tr style=\"text-align: right;\">\n",
       "      <th></th>\n",
       "      <th>run_id</th>\n",
       "      <th>experiment_id</th>\n",
       "      <th>status</th>\n",
       "      <th>artifact_uri</th>\n",
       "      <th>start_time</th>\n",
       "      <th>end_time</th>\n",
       "      <th>metrics.au_roc</th>\n",
       "      <th>metrics.score</th>\n",
       "      <th>tags.mlflow.source.type</th>\n",
       "      <th>tags.version</th>\n",
       "      <th>tags.mlflow.user</th>\n",
       "      <th>tags.mlflow.runName</th>\n",
       "      <th>tags.mlflow.source.name</th>\n",
       "    </tr>\n",
       "  </thead>\n",
       "  <tbody>\n",
       "    <tr>\n",
       "      <th>0</th>\n",
       "      <td>d574f50208394fcf9603753ee7660152</td>\n",
       "      <td>0</td>\n",
       "      <td>FINISHED</td>\n",
       "      <td>file:///C:/Users/pnichite/projects/re_train/ml...</td>\n",
       "      <td>2020-03-23 09:19:42.383000+00:00</td>\n",
       "      <td>2020-03-23 09:19:42.450000+00:00</td>\n",
       "      <td>0.666667</td>\n",
       "      <td>NaN</td>\n",
       "      <td>LOCAL</td>\n",
       "      <td>latest</td>\n",
       "      <td>pnichite</td>\n",
       "      <td>Ensemble</td>\n",
       "      <td>c:\\users\\pnichite\\projects\\risk\\lib\\site-packa...</td>\n",
       "    </tr>\n",
       "    <tr>\n",
       "      <th>1</th>\n",
       "      <td>1e28314001ea4a929b5104d9b88a3501</td>\n",
       "      <td>0</td>\n",
       "      <td>FINISHED</td>\n",
       "      <td>file:///C:/Users/pnichite/projects/re_train/ml...</td>\n",
       "      <td>2020-03-23 09:17:19.328000+00:00</td>\n",
       "      <td>2020-03-23 09:17:19.407000+00:00</td>\n",
       "      <td>NaN</td>\n",
       "      <td>0.666667</td>\n",
       "      <td>LOCAL</td>\n",
       "      <td>latest</td>\n",
       "      <td>pnichite</td>\n",
       "      <td>Ensemble</td>\n",
       "      <td>c:\\users\\pnichite\\projects\\risk\\lib\\site-packa...</td>\n",
       "    </tr>\n",
       "  </tbody>\n",
       "</table>\n",
       "</div>"
      ],
      "text/plain": [
       "                             run_id experiment_id    status  \\\n",
       "0  d574f50208394fcf9603753ee7660152             0  FINISHED   \n",
       "1  1e28314001ea4a929b5104d9b88a3501             0  FINISHED   \n",
       "\n",
       "                                        artifact_uri  \\\n",
       "0  file:///C:/Users/pnichite/projects/re_train/ml...   \n",
       "1  file:///C:/Users/pnichite/projects/re_train/ml...   \n",
       "\n",
       "                        start_time                         end_time  \\\n",
       "0 2020-03-23 09:19:42.383000+00:00 2020-03-23 09:19:42.450000+00:00   \n",
       "1 2020-03-23 09:17:19.328000+00:00 2020-03-23 09:17:19.407000+00:00   \n",
       "\n",
       "   metrics.au_roc  metrics.score tags.mlflow.source.type tags.version  \\\n",
       "0        0.666667            NaN                   LOCAL       latest   \n",
       "1             NaN       0.666667                   LOCAL       latest   \n",
       "\n",
       "  tags.mlflow.user tags.mlflow.runName  \\\n",
       "0         pnichite            Ensemble   \n",
       "1         pnichite            Ensemble   \n",
       "\n",
       "                             tags.mlflow.source.name  \n",
       "0  c:\\users\\pnichite\\projects\\risk\\lib\\site-packa...  \n",
       "1  c:\\users\\pnichite\\projects\\risk\\lib\\site-packa...  "
      ]
     },
     "execution_count": 67,
     "metadata": {},
     "output_type": "execute_result"
    }
   ],
   "source": [
    "\n",
    "data"
   ]
  },
  {
   "cell_type": "code",
   "execution_count": 68,
   "metadata": {},
   "outputs": [
    {
     "data": {
      "text/plain": [
       "Index(['run_id', 'experiment_id', 'status', 'artifact_uri', 'start_time',\n",
       "       'end_time', 'metrics.au_roc', 'metrics.score',\n",
       "       'tags.mlflow.source.type', 'tags.version', 'tags.mlflow.user',\n",
       "       'tags.mlflow.runName', 'tags.mlflow.source.name'],\n",
       "      dtype='object')"
      ]
     },
     "execution_count": 68,
     "metadata": {},
     "output_type": "execute_result"
    }
   ],
   "source": [
    "data.columns"
   ]
  },
  {
   "cell_type": "code",
   "execution_count": 75,
   "metadata": {},
   "outputs": [
    {
     "data": {
      "text/plain": [
       "0.6666666666666666"
      ]
     },
     "execution_count": 75,
     "metadata": {},
     "output_type": "execute_result"
    }
   ],
   "source": [
    "data = mlflow.search_runs( filter_string='tags.version= \"latest\" and tags.mlflow.runName= \"Ensemble\"')\n",
    "au_roc = data.sort_values(\"end_time\",ascending=False)[\"metrics.au_roc\"].to_list()[0]\n",
    "au_roc"
   ]
  },
  {
   "cell_type": "code",
   "execution_count": null,
   "metadata": {},
   "outputs": [],
   "source": []
  }
 ],
 "metadata": {
  "kernelspec": {
   "display_name": "Risk",
   "language": "python",
   "name": "risk"
  },
  "language_info": {
   "codemirror_mode": {
    "name": "ipython",
    "version": 3
   },
   "file_extension": ".py",
   "mimetype": "text/x-python",
   "name": "python",
   "nbconvert_exporter": "python",
   "pygments_lexer": "ipython3",
   "version": "3.8.2"
  }
 },
 "nbformat": 4,
 "nbformat_minor": 4
}
